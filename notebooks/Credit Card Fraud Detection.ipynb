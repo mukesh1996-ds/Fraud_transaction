{
 "cells": [
  {
   "cell_type": "markdown",
   "metadata": {
    "_cell_guid": "11d9df76-b958-4da3-bfde-f454ae168f12",
    "_uuid": "1b7686d71dd154eea3edcecdb36bbe291d51666f"
   },
   "source": [
    "# Credit Card Fraud Detection\n"
   ]
  },
  {
   "cell_type": "markdown",
   "metadata": {},
   "source": [
    "# 1. Introduction\n",
    "<a id='1'></a>"
   ]
  },
  {
   "cell_type": "markdown",
   "metadata": {},
   "source": [
    "In this project we analyze a dataset of credit card transactions made over a two-day period in September 2013 by European cardholders. The dataset contains 284,807 transactions, of which 492 (0.17%) are fraudulent.\n",
    "\n",
    "Each transaction has 30 features, all of which are numerical. The features `V1, V2, ..., V28` are the result of a PCA transformation. To protect confidentiality, background information on these features is not available. The `Time` feature contains the time elapsed since the first transaction, and the `Amount` feature contains the transaction amount. The response variable, `Class`, is 1 in the case of fraud, and 0 otherwise.\n",
    "\n",
    "Our goal in this project is to construct models to predict whether a credit card transaction is fraudulent. We'll attempt a supervised learning approach. We'll also create visualizations to help us understand the structure of the data and unearth any interesting patterns."
   ]
  },
  {
   "cell_type": "markdown",
   "metadata": {},
   "source": [
    "## 1.1 References\n",
    "<a id='1.1'></a>"
   ]
  },
  {
   "cell_type": "markdown",
   "metadata": {},
   "source": [
    "* [Kaggle Dataset](https://www.kaggle.com/mlg-ulb/creditcardfraud)\n",
    "* [Kaggle Notebook](https://www.kaggle.com/pileatedperch/linear-svc-random-forest-mcc-0-77-0-88) - A version of this notebook hosted on Kaggle\n",
    "* [GitHub Repository](https://github.com/jgcorliss/credit-card-fraud) - The GitHub repository for this project"
   ]
  },
  {
   "cell_type": "markdown",
   "metadata": {
    "_cell_guid": "637b0320-5b60-48c1-8a30-12877d9d3706",
    "_uuid": "3ac770b4ec327e649c8f6aaebe62e5d9deda3ce1"
   },
   "source": [
    "# 2. Getting Started\n",
    "<a id='2'></a>"
   ]
  },
  {
   "cell_type": "markdown",
   "metadata": {},
   "source": [
    "Import basic libraries:"
   ]
  },
  {
   "cell_type": "code",
   "execution_count": 1,
   "metadata": {
    "_cell_guid": "6d9ae327-80a0-477d-9dc7-bef5c7fa2ae4",
    "_uuid": "5df5d6d9eb66c3fe6943f1bed5d01d9096e0939e"
   },
   "outputs": [],
   "source": [
    "import numpy as np\n",
    "import scipy as sp\n",
    "import pandas as pd\n",
    "import matplotlib as mpl\n",
    "import matplotlib.pyplot as plt\n",
    "import seaborn as sns\n",
    "\n",
    "# Pandas options\n",
    "pd.set_option('display.max_colwidth', 1000, 'display.max_rows', None, 'display.max_columns', None)\n",
    "\n",
    "# Plotting options\n",
    "%matplotlib inline\n",
    "mpl.style.use('ggplot')\n",
    "sns.set(style='whitegrid')"
   ]
  },
  {
   "cell_type": "markdown",
   "metadata": {
    "_cell_guid": "c46a6889-76ed-4174-b01f-ee57c553a4a6",
    "_uuid": "ba7704d23e6bf26359fc570b250e4e3573a90b01"
   },
   "source": [
    "Read in the data into a pandas dataframe."
   ]
  },
  {
   "cell_type": "code",
   "execution_count": 3,
   "metadata": {
    "_cell_guid": "b2eaac2a-dd66-4487-a7cc-ff8a6f9d895b",
    "_uuid": "1633367750b89e28917f9e740fe55269c0f41daf"
   },
   "outputs": [],
   "source": [
    "transactions = pd.read_csv(r'F:\\Internship project\\Machine Learning\\Fraud Detection\\Fraud_detection_dvc_mlops\\data\\raw\\creditcard.csv')"
   ]
  },
  {
   "cell_type": "markdown",
   "metadata": {
    "_cell_guid": "3b0d2746-1bd2-4121-a70c-14f34aff322b",
    "_uuid": "ba7ed08e89eca5a23f447ce2b6afcaf555751fe7"
   },
   "source": [
    "Check basic metadata."
   ]
  },
  {
   "cell_type": "code",
   "execution_count": 4,
   "metadata": {},
   "outputs": [
    {
     "data": {
      "text/plain": [
       "(284807, 31)"
      ]
     },
     "execution_count": 4,
     "metadata": {},
     "output_type": "execute_result"
    }
   ],
   "source": [
    "transactions.shape"
   ]
  },
  {
   "cell_type": "code",
   "execution_count": 5,
   "metadata": {
    "_cell_guid": "4f1f3529-274f-464b-8693-c5696021bf5b",
    "_uuid": "16fc775a28983a0591370de08bd0941572f675c4",
    "scrolled": true
   },
   "outputs": [
    {
     "name": "stdout",
     "output_type": "stream",
     "text": [
      "<class 'pandas.core.frame.DataFrame'>\n",
      "RangeIndex: 284807 entries, 0 to 284806\n",
      "Data columns (total 31 columns):\n",
      " #   Column  Non-Null Count   Dtype  \n",
      "---  ------  --------------   -----  \n",
      " 0   Time    284807 non-null  float64\n",
      " 1   V1      284807 non-null  float64\n",
      " 2   V2      284807 non-null  float64\n",
      " 3   V3      284807 non-null  float64\n",
      " 4   V4      284807 non-null  float64\n",
      " 5   V5      284807 non-null  float64\n",
      " 6   V6      284807 non-null  float64\n",
      " 7   V7      284807 non-null  float64\n",
      " 8   V8      284807 non-null  float64\n",
      " 9   V9      284807 non-null  float64\n",
      " 10  V10     284807 non-null  float64\n",
      " 11  V11     284807 non-null  float64\n",
      " 12  V12     284807 non-null  float64\n",
      " 13  V13     284807 non-null  float64\n",
      " 14  V14     284807 non-null  float64\n",
      " 15  V15     284807 non-null  float64\n",
      " 16  V16     284807 non-null  float64\n",
      " 17  V17     284807 non-null  float64\n",
      " 18  V18     284807 non-null  float64\n",
      " 19  V19     284807 non-null  float64\n",
      " 20  V20     284807 non-null  float64\n",
      " 21  V21     284807 non-null  float64\n",
      " 22  V22     284807 non-null  float64\n",
      " 23  V23     284807 non-null  float64\n",
      " 24  V24     284807 non-null  float64\n",
      " 25  V25     284807 non-null  float64\n",
      " 26  V26     284807 non-null  float64\n",
      " 27  V27     284807 non-null  float64\n",
      " 28  V28     284807 non-null  float64\n",
      " 29  Amount  284807 non-null  float64\n",
      " 30  Class   284807 non-null  int64  \n",
      "dtypes: float64(30), int64(1)\n",
      "memory usage: 67.4 MB\n"
     ]
    }
   ],
   "source": [
    "transactions.info()"
   ]
  },
  {
   "cell_type": "markdown",
   "metadata": {},
   "source": [
    "Are there any variables with missing data?"
   ]
  },
  {
   "cell_type": "code",
   "execution_count": 6,
   "metadata": {},
   "outputs": [
    {
     "data": {
      "text/plain": [
       "False"
      ]
     },
     "execution_count": 6,
     "metadata": {},
     "output_type": "execute_result"
    }
   ],
   "source": [
    "transactions.isnull().any().any()"
   ]
  },
  {
   "cell_type": "markdown",
   "metadata": {},
   "source": [
    "No! Let's view five randomly chosen transactions."
   ]
  },
  {
   "cell_type": "code",
   "execution_count": 7,
   "metadata": {
    "_cell_guid": "bc604ca1-88c0-4283-af5d-620fbdb2dff7",
    "_uuid": "7c96bb853ac6ed993aab097b658fac0e75bc61ed"
   },
   "outputs": [
    {
     "data": {
      "text/html": [
       "<div>\n",
       "<style scoped>\n",
       "    .dataframe tbody tr th:only-of-type {\n",
       "        vertical-align: middle;\n",
       "    }\n",
       "\n",
       "    .dataframe tbody tr th {\n",
       "        vertical-align: top;\n",
       "    }\n",
       "\n",
       "    .dataframe thead th {\n",
       "        text-align: right;\n",
       "    }\n",
       "</style>\n",
       "<table border=\"1\" class=\"dataframe\">\n",
       "  <thead>\n",
       "    <tr style=\"text-align: right;\">\n",
       "      <th></th>\n",
       "      <th>Time</th>\n",
       "      <th>V1</th>\n",
       "      <th>V2</th>\n",
       "      <th>V3</th>\n",
       "      <th>V4</th>\n",
       "      <th>V5</th>\n",
       "      <th>V6</th>\n",
       "      <th>V7</th>\n",
       "      <th>V8</th>\n",
       "      <th>V9</th>\n",
       "      <th>V10</th>\n",
       "      <th>V11</th>\n",
       "      <th>V12</th>\n",
       "      <th>V13</th>\n",
       "      <th>V14</th>\n",
       "      <th>V15</th>\n",
       "      <th>V16</th>\n",
       "      <th>V17</th>\n",
       "      <th>V18</th>\n",
       "      <th>V19</th>\n",
       "      <th>V20</th>\n",
       "      <th>V21</th>\n",
       "      <th>V22</th>\n",
       "      <th>V23</th>\n",
       "      <th>V24</th>\n",
       "      <th>V25</th>\n",
       "      <th>V26</th>\n",
       "      <th>V27</th>\n",
       "      <th>V28</th>\n",
       "      <th>Amount</th>\n",
       "      <th>Class</th>\n",
       "    </tr>\n",
       "  </thead>\n",
       "  <tbody>\n",
       "    <tr>\n",
       "      <th>270252</th>\n",
       "      <td>163989.0</td>\n",
       "      <td>1.972789</td>\n",
       "      <td>-0.011772</td>\n",
       "      <td>-1.589954</td>\n",
       "      <td>0.492616</td>\n",
       "      <td>-0.004246</td>\n",
       "      <td>-1.230674</td>\n",
       "      <td>0.126058</td>\n",
       "      <td>-0.259372</td>\n",
       "      <td>1.052101</td>\n",
       "      <td>-0.847723</td>\n",
       "      <td>-0.467062</td>\n",
       "      <td>0.231085</td>\n",
       "      <td>-0.336982</td>\n",
       "      <td>-1.397418</td>\n",
       "      <td>-0.061505</td>\n",
       "      <td>-0.070435</td>\n",
       "      <td>1.149742</td>\n",
       "      <td>-0.051392</td>\n",
       "      <td>0.046507</td>\n",
       "      <td>-0.164107</td>\n",
       "      <td>-0.230401</td>\n",
       "      <td>-0.443560</td>\n",
       "      <td>0.177840</td>\n",
       "      <td>-0.132775</td>\n",
       "      <td>-0.093226</td>\n",
       "      <td>-0.087064</td>\n",
       "      <td>-0.008507</td>\n",
       "      <td>-0.018654</td>\n",
       "      <td>29.99</td>\n",
       "      <td>0</td>\n",
       "    </tr>\n",
       "    <tr>\n",
       "      <th>241948</th>\n",
       "      <td>151261.0</td>\n",
       "      <td>2.009944</td>\n",
       "      <td>0.309506</td>\n",
       "      <td>-2.676218</td>\n",
       "      <td>1.208501</td>\n",
       "      <td>1.303864</td>\n",
       "      <td>-0.219131</td>\n",
       "      <td>0.480385</td>\n",
       "      <td>-0.063190</td>\n",
       "      <td>0.124205</td>\n",
       "      <td>-0.158691</td>\n",
       "      <td>0.221033</td>\n",
       "      <td>-0.283951</td>\n",
       "      <td>-1.602813</td>\n",
       "      <td>-0.569103</td>\n",
       "      <td>-0.815490</td>\n",
       "      <td>0.262524</td>\n",
       "      <td>0.547153</td>\n",
       "      <td>0.954073</td>\n",
       "      <td>0.156468</td>\n",
       "      <td>-0.244787</td>\n",
       "      <td>-0.044546</td>\n",
       "      <td>-0.055942</td>\n",
       "      <td>-0.097506</td>\n",
       "      <td>-0.274745</td>\n",
       "      <td>0.502651</td>\n",
       "      <td>-0.488472</td>\n",
       "      <td>-0.018000</td>\n",
       "      <td>-0.040394</td>\n",
       "      <td>23.78</td>\n",
       "      <td>0</td>\n",
       "    </tr>\n",
       "    <tr>\n",
       "      <th>875</th>\n",
       "      <td>663.0</td>\n",
       "      <td>-0.115946</td>\n",
       "      <td>0.757044</td>\n",
       "      <td>1.733746</td>\n",
       "      <td>0.270059</td>\n",
       "      <td>-0.517369</td>\n",
       "      <td>-0.605833</td>\n",
       "      <td>0.351480</td>\n",
       "      <td>-0.135416</td>\n",
       "      <td>-0.513307</td>\n",
       "      <td>-0.244929</td>\n",
       "      <td>-0.132756</td>\n",
       "      <td>0.176756</td>\n",
       "      <td>0.870133</td>\n",
       "      <td>0.019896</td>\n",
       "      <td>1.874171</td>\n",
       "      <td>-0.368379</td>\n",
       "      <td>0.217917</td>\n",
       "      <td>-0.116078</td>\n",
       "      <td>1.810186</td>\n",
       "      <td>0.281712</td>\n",
       "      <td>-0.003159</td>\n",
       "      <td>0.058368</td>\n",
       "      <td>0.006639</td>\n",
       "      <td>0.469378</td>\n",
       "      <td>-0.705941</td>\n",
       "      <td>1.087215</td>\n",
       "      <td>0.088764</td>\n",
       "      <td>0.138780</td>\n",
       "      <td>19.54</td>\n",
       "      <td>0</td>\n",
       "    </tr>\n",
       "    <tr>\n",
       "      <th>257173</th>\n",
       "      <td>158041.0</td>\n",
       "      <td>-1.762934</td>\n",
       "      <td>-0.042077</td>\n",
       "      <td>-0.585829</td>\n",
       "      <td>0.419884</td>\n",
       "      <td>1.452355</td>\n",
       "      <td>-1.073936</td>\n",
       "      <td>0.378920</td>\n",
       "      <td>0.157589</td>\n",
       "      <td>-0.494899</td>\n",
       "      <td>-0.770182</td>\n",
       "      <td>-0.739469</td>\n",
       "      <td>0.195871</td>\n",
       "      <td>0.842697</td>\n",
       "      <td>-0.786024</td>\n",
       "      <td>0.419796</td>\n",
       "      <td>0.009159</td>\n",
       "      <td>0.850121</td>\n",
       "      <td>-0.010534</td>\n",
       "      <td>1.211306</td>\n",
       "      <td>-0.349614</td>\n",
       "      <td>-0.314037</td>\n",
       "      <td>-0.492211</td>\n",
       "      <td>1.209303</td>\n",
       "      <td>0.494999</td>\n",
       "      <td>-0.410118</td>\n",
       "      <td>0.298733</td>\n",
       "      <td>-0.139877</td>\n",
       "      <td>0.227971</td>\n",
       "      <td>1.98</td>\n",
       "      <td>0</td>\n",
       "    </tr>\n",
       "    <tr>\n",
       "      <th>138255</th>\n",
       "      <td>82564.0</td>\n",
       "      <td>-0.834557</td>\n",
       "      <td>1.364718</td>\n",
       "      <td>0.332652</td>\n",
       "      <td>0.919600</td>\n",
       "      <td>-0.662385</td>\n",
       "      <td>-0.186176</td>\n",
       "      <td>-0.165507</td>\n",
       "      <td>0.973766</td>\n",
       "      <td>-0.901921</td>\n",
       "      <td>-0.336846</td>\n",
       "      <td>1.119140</td>\n",
       "      <td>0.436683</td>\n",
       "      <td>-1.166650</td>\n",
       "      <td>1.376282</td>\n",
       "      <td>0.617895</td>\n",
       "      <td>-0.129516</td>\n",
       "      <td>0.287140</td>\n",
       "      <td>0.276782</td>\n",
       "      <td>0.201241</td>\n",
       "      <td>-0.375105</td>\n",
       "      <td>0.307864</td>\n",
       "      <td>0.577142</td>\n",
       "      <td>0.064627</td>\n",
       "      <td>0.201728</td>\n",
       "      <td>-0.290923</td>\n",
       "      <td>-0.334224</td>\n",
       "      <td>-0.287411</td>\n",
       "      <td>-0.103809</td>\n",
       "      <td>32.00</td>\n",
       "      <td>0</td>\n",
       "    </tr>\n",
       "  </tbody>\n",
       "</table>\n",
       "</div>"
      ],
      "text/plain": [
       "            Time        V1        V2        V3        V4        V5        V6  \\\n",
       "270252  163989.0  1.972789 -0.011772 -1.589954  0.492616 -0.004246 -1.230674   \n",
       "241948  151261.0  2.009944  0.309506 -2.676218  1.208501  1.303864 -0.219131   \n",
       "875        663.0 -0.115946  0.757044  1.733746  0.270059 -0.517369 -0.605833   \n",
       "257173  158041.0 -1.762934 -0.042077 -0.585829  0.419884  1.452355 -1.073936   \n",
       "138255   82564.0 -0.834557  1.364718  0.332652  0.919600 -0.662385 -0.186176   \n",
       "\n",
       "              V7        V8        V9       V10       V11       V12       V13  \\\n",
       "270252  0.126058 -0.259372  1.052101 -0.847723 -0.467062  0.231085 -0.336982   \n",
       "241948  0.480385 -0.063190  0.124205 -0.158691  0.221033 -0.283951 -1.602813   \n",
       "875     0.351480 -0.135416 -0.513307 -0.244929 -0.132756  0.176756  0.870133   \n",
       "257173  0.378920  0.157589 -0.494899 -0.770182 -0.739469  0.195871  0.842697   \n",
       "138255 -0.165507  0.973766 -0.901921 -0.336846  1.119140  0.436683 -1.166650   \n",
       "\n",
       "             V14       V15       V16       V17       V18       V19       V20  \\\n",
       "270252 -1.397418 -0.061505 -0.070435  1.149742 -0.051392  0.046507 -0.164107   \n",
       "241948 -0.569103 -0.815490  0.262524  0.547153  0.954073  0.156468 -0.244787   \n",
       "875     0.019896  1.874171 -0.368379  0.217917 -0.116078  1.810186  0.281712   \n",
       "257173 -0.786024  0.419796  0.009159  0.850121 -0.010534  1.211306 -0.349614   \n",
       "138255  1.376282  0.617895 -0.129516  0.287140  0.276782  0.201241 -0.375105   \n",
       "\n",
       "             V21       V22       V23       V24       V25       V26       V27  \\\n",
       "270252 -0.230401 -0.443560  0.177840 -0.132775 -0.093226 -0.087064 -0.008507   \n",
       "241948 -0.044546 -0.055942 -0.097506 -0.274745  0.502651 -0.488472 -0.018000   \n",
       "875    -0.003159  0.058368  0.006639  0.469378 -0.705941  1.087215  0.088764   \n",
       "257173 -0.314037 -0.492211  1.209303  0.494999 -0.410118  0.298733 -0.139877   \n",
       "138255  0.307864  0.577142  0.064627  0.201728 -0.290923 -0.334224 -0.287411   \n",
       "\n",
       "             V28  Amount  Class  \n",
       "270252 -0.018654   29.99      0  \n",
       "241948 -0.040394   23.78      0  \n",
       "875     0.138780   19.54      0  \n",
       "257173  0.227971    1.98      0  \n",
       "138255 -0.103809   32.00      0  "
      ]
     },
     "execution_count": 7,
     "metadata": {},
     "output_type": "execute_result"
    }
   ],
   "source": [
    "transactions.sample(5)"
   ]
  },
  {
   "cell_type": "markdown",
   "metadata": {
    "_cell_guid": "8f7ec588-76e0-4148-9fb1-4feeb3dada12",
    "_uuid": "0023ca6d961466f0d748eb7f0c30c7da45371bbf"
   },
   "source": [
    "How balanced are the classes, i.e. how common are fraudulent transactions?"
   ]
  },
  {
   "cell_type": "code",
   "execution_count": 8,
   "metadata": {},
   "outputs": [
    {
     "data": {
      "text/plain": [
       "0    284315\n",
       "1       492\n",
       "Name: Class, dtype: int64"
      ]
     },
     "execution_count": 8,
     "metadata": {},
     "output_type": "execute_result"
    }
   ],
   "source": [
    "transactions['Class'].value_counts()"
   ]
  },
  {
   "cell_type": "code",
   "execution_count": 9,
   "metadata": {},
   "outputs": [
    {
     "data": {
      "text/plain": [
       "0    0.998273\n",
       "1    0.001727\n",
       "Name: Class, dtype: float64"
      ]
     },
     "execution_count": 9,
     "metadata": {},
     "output_type": "execute_result"
    }
   ],
   "source": [
    "transactions['Class'].value_counts(normalize=True)"
   ]
  },
  {
   "cell_type": "markdown",
   "metadata": {
    "_cell_guid": "494ab719-1616-484f-aa45-bbfe65d8551b",
    "_uuid": "02969b991d83731381b47bc52b283e2e154967a4"
   },
   "source": [
    "Only 0.17% (492 out of 284,807) transactions are fraudulent."
   ]
  },
  {
   "cell_type": "markdown",
   "metadata": {},
   "source": [
    "# 3. Train/Test Split\n",
    "<a id='3'></a>"
   ]
  },
  {
   "cell_type": "markdown",
   "metadata": {},
   "source": [
    "Before we begin preprocessing, we split off a test data set. First split the data into features and response variable:"
   ]
  },
  {
   "cell_type": "code",
   "execution_count": 10,
   "metadata": {
    "_cell_guid": "bef72ced-38e9-4ac6-9e5a-808b1d78884f",
    "_uuid": "7372fd82bc5da83aa8bb5315fde1d85688e8d6b0"
   },
   "outputs": [],
   "source": [
    "X = transactions.drop(labels='Class', axis=1) # Features\n",
    "y = transactions.loc[:,'Class']               # Response\n",
    "del transactions                              # Delete the original data"
   ]
  },
  {
   "cell_type": "markdown",
   "metadata": {
    "_cell_guid": "74100588-3a51-4fcb-a02a-3c92a6c6b32f",
    "_uuid": "fa5b1986d2ae5b4e94392336477009352c33193c"
   },
   "source": [
    "We'll use a test size of 20%. We also stratify the split on the response variable, which is very important to do because there are so few fraudulent transactions."
   ]
  },
  {
   "cell_type": "code",
   "execution_count": 11,
   "metadata": {
    "_cell_guid": "1e6fa3fe-6f44-4293-a66e-043e2cc78d02",
    "_uuid": "40fea6c259d8cea82ac0c09b544ac05313270ff1"
   },
   "outputs": [],
   "source": [
    "from sklearn.model_selection import train_test_split"
   ]
  },
  {
   "cell_type": "code",
   "execution_count": 12,
   "metadata": {
    "_cell_guid": "ef4278b6-9789-4fdb-befc-412bfc427b4f",
    "_uuid": "6bcc0773be9d933ba0a7f63d90214fd33637d655"
   },
   "outputs": [],
   "source": [
    "X_train, X_test, y_train, y_test = train_test_split(X, y, test_size=0.2, random_state=1, stratify=y)\n",
    "del X, y"
   ]
  },
  {
   "cell_type": "code",
   "execution_count": 13,
   "metadata": {},
   "outputs": [
    {
     "data": {
      "text/plain": [
       "(227845, 30)"
      ]
     },
     "execution_count": 13,
     "metadata": {},
     "output_type": "execute_result"
    }
   ],
   "source": [
    "X_train.shape"
   ]
  },
  {
   "cell_type": "code",
   "execution_count": 14,
   "metadata": {},
   "outputs": [
    {
     "data": {
      "text/plain": [
       "(56962, 30)"
      ]
     },
     "execution_count": 14,
     "metadata": {},
     "output_type": "execute_result"
    }
   ],
   "source": [
    "X_test.shape"
   ]
  },
  {
   "cell_type": "code",
   "execution_count": 15,
   "metadata": {},
   "outputs": [],
   "source": [
    "# Prevent view warnings\n",
    "X_train.is_copy = False\n",
    "X_test.is_copy = False"
   ]
  },
  {
   "cell_type": "markdown",
   "metadata": {},
   "source": [
    "# 4. Exploratory Data Analysis\n",
    "<a id='4'></a>"
   ]
  },
  {
   "cell_type": "markdown",
   "metadata": {},
   "source": [
    "We conduct EDA only on the training set, and leave the test set unknown."
   ]
  },
  {
   "cell_type": "markdown",
   "metadata": {},
   "source": [
    "## 4.1 Time\n",
    "<a id='4.1'></a>"
   ]
  },
  {
   "cell_type": "markdown",
   "metadata": {},
   "source": [
    "Few descriptive statistics for the `Time` variable:"
   ]
  },
  {
   "cell_type": "code",
   "execution_count": 16,
   "metadata": {},
   "outputs": [
    {
     "data": {
      "text/plain": [
       "count    227845.000000\n",
       "mean      94707.617670\n",
       "std       47523.204111\n",
       "min           0.000000\n",
       "25%       54086.000000\n",
       "50%       84609.000000\n",
       "75%      139261.000000\n",
       "max      172792.000000\n",
       "Name: Time, dtype: float64"
      ]
     },
     "execution_count": 16,
     "metadata": {},
     "output_type": "execute_result"
    }
   ],
   "source": [
    "X_train['Time'].describe()"
   ]
  },
  {
   "cell_type": "markdown",
   "metadata": {},
   "source": [
    "Let's convert the time from seconds to hours to ease the interpretation."
   ]
  },
  {
   "cell_type": "code",
   "execution_count": 17,
   "metadata": {},
   "outputs": [],
   "source": [
    "X_train.loc[:,'Time'] = X_train.Time / 3600\n",
    "X_test.loc[:,'Time'] = X_test.Time / 3600"
   ]
  },
  {
   "cell_type": "markdown",
   "metadata": {},
   "source": [
    "What is the time of the last transaction, in days?"
   ]
  },
  {
   "cell_type": "code",
   "execution_count": 18,
   "metadata": {},
   "outputs": [
    {
     "data": {
      "text/plain": [
       "1.9999074074074075"
      ]
     },
     "execution_count": 18,
     "metadata": {},
     "output_type": "execute_result"
    }
   ],
   "source": [
    "X_train['Time'].max() / 24"
   ]
  },
  {
   "cell_type": "markdown",
   "metadata": {},
   "source": [
    "So the transactions indeed occur over a two-day period. Next let's plot a histogram of transaction times, with one bin per hour:"
   ]
  },
  {
   "cell_type": "code",
   "execution_count": 19,
   "metadata": {},
   "outputs": [
    {
     "name": "stderr",
     "output_type": "stream",
     "text": [
      "C:\\Users\\mksmu\\miniconda3\\envs\\project\\lib\\site-packages\\seaborn\\distributions.py:2619: FutureWarning: `distplot` is a deprecated function and will be removed in a future version. Please adapt your code to use either `displot` (a figure-level function with similar flexibility) or `histplot` (an axes-level function for histograms).\n",
      "  warnings.warn(msg, FutureWarning)\n"
     ]
    },
    {
     "data": {
      "text/plain": [
       "Text(0.5, 1.0, 'Transaction Times')"
      ]
     },
     "execution_count": 19,
     "metadata": {},
     "output_type": "execute_result"
    },
    {
     "data": {
      "image/png": "[encoded data removed]",
      "text/plain": [
       "<Figure size 960x320 with 1 Axes>"
      ]
     },
     "metadata": {},
     "output_type": "display_data"
    }
   ],
   "source": [
    "plt.figure(figsize=(12,4), dpi=80)\n",
    "sns.distplot(X_train['Time'], bins=48, kde=False)\n",
    "plt.xlim([0,48])\n",
    "plt.xticks(np.arange(0,54,6))\n",
    "plt.xlabel('Time After First Transaction (hr)')\n",
    "plt.ylabel('Count')\n",
    "plt.title('Transaction Times')"
   ]
  },
  {
   "cell_type": "markdown",
   "metadata": {},
   "source": [
    "It looks like there are two lulls in credit card transactions during nighttime on each day."
   ]
  },
  {
   "cell_type": "markdown",
   "metadata": {},
   "source": [
    "## 4.2 Amount\n",
    "<a id='4.2'></a>"
   ]
  },
  {
   "cell_type": "markdown",
   "metadata": {},
   "source": [
    "Summary statistics:"
   ]
  },
  {
   "cell_type": "code",
   "execution_count": 20,
   "metadata": {},
   "outputs": [
    {
     "data": {
      "text/plain": [
       "count    227845.000000\n",
       "mean         88.709296\n",
       "std         250.026305\n",
       "min           0.000000\n",
       "25%           5.550000\n",
       "50%          22.000000\n",
       "75%          77.890000\n",
       "max       25691.160000\n",
       "Name: Amount, dtype: float64"
      ]
     },
     "execution_count": 20,
     "metadata": {},
     "output_type": "execute_result"
    }
   ],
   "source": [
    "X_train['Amount'].describe()"
   ]
  },
  {
   "cell_type": "markdown",
   "metadata": {},
   "source": [
    "Comparing the different quantiles, it looks like the amounts are very right-skewed. To verify this, plot a histogram of the transaction amounts:"
   ]
  },
  {
   "cell_type": "code",
   "execution_count": 21,
   "metadata": {},
   "outputs": [
    {
     "data": {
      "text/plain": [
       "Text(0.5, 1.0, 'Transaction Amounts')"
      ]
     },
     "execution_count": 21,
     "metadata": {},
     "output_type": "execute_result"
    },
    {
     "data": {
      "image/png": "[encoded data removed]",
      "text/plain": [
       "<Figure size 960x320 with 1 Axes>"
      ]
     },
     "metadata": {},
     "output_type": "display_data"
    }
   ],
   "source": [
    "plt.figure(figsize=(12,4), dpi=80)\n",
    "sns.distplot(X_train['Amount'], bins=300, kde=False)\n",
    "plt.ylabel('Count')\n",
    "plt.title('Transaction Amounts')"
   ]
  },
  {
   "cell_type": "markdown",
   "metadata": {},
   "source": [
    "The histogram is hard to read due to some outliers we can't see. A boxplot will show the outliers:"
   ]
  },
  {
   "cell_type": "code",
   "execution_count": 22,
   "metadata": {},
   "outputs": [
    {
     "name": "stderr",
     "output_type": "stream",
     "text": [
      "C:\\Users\\mksmu\\miniconda3\\envs\\project\\lib\\site-packages\\seaborn\\_decorators.py:43: FutureWarning: Pass the following variable as a keyword arg: x. From version 0.12, the only valid positional argument will be `data`, and passing other arguments without an explicit keyword will result in an error or misinterpretation.\n",
      "  FutureWarning\n"
     ]
    },
    {
     "data": {
      "text/plain": [
       "Text(0.5, 1.0, 'Transaction Amounts')"
      ]
     },
     "execution_count": 22,
     "metadata": {},
     "output_type": "execute_result"
    },
    {
     "data": {
      "image/png": "[encoded data removed]",
      "text/plain": [
       "<Figure size 960x320 with 1 Axes>"
      ]
     },
     "metadata": {},
     "output_type": "display_data"
    }
   ],
   "source": [
    "plt.figure(figsize=(12,4), dpi=80)\n",
    "sns.boxplot(X_train['Amount'])\n",
    "plt.title('Transaction Amounts')"
   ]
  },
  {
   "cell_type": "markdown",
   "metadata": {},
   "source": [
    "We can see there are no outliers on the left and many outliers on the right. So the amounts certainly seem right-skewed. We can calculate the skewness to be sure:"
   ]
  },
  {
   "cell_type": "code",
   "execution_count": 23,
   "metadata": {},
   "outputs": [
    {
     "data": {
      "text/plain": [
       "16.910303546516744"
      ]
     },
     "execution_count": 23,
     "metadata": {},
     "output_type": "execute_result"
    }
   ],
   "source": [
    "X_train['Amount'].skew()"
   ]
  },
  {
   "cell_type": "markdown",
   "metadata": {},
   "source": [
    "That's a strong right skew. Let's use a power transform to bring the transaction amounts closer to a normal distribution. We'll use the [Box-Cox transform in SciPy](https://docs.scipy.org/doc/scipy/reference/generated/scipy.stats.boxcox.html), but some of the amounts are zero (min = 0 above), so we need to shift the amounts first to make them positive. We'll shift by a very small amount, just $10^{-9}$."
   ]
  },
  {
   "cell_type": "code",
   "execution_count": 24,
   "metadata": {},
   "outputs": [],
   "source": [
    "X_train.loc[:,'Amount'] = X_train['Amount'] + 1e-9 # Shift all amounts by 1e-9"
   ]
  },
  {
   "cell_type": "markdown",
   "metadata": {},
   "source": [
    "Perform the Box-Cox transform:"
   ]
  },
  {
   "cell_type": "code",
   "execution_count": 25,
   "metadata": {},
   "outputs": [],
   "source": [
    "X_train.loc[:,'Amount'], maxlog, (min_ci, max_ci) = sp.stats.boxcox(X_train['Amount'], alpha=0.01)"
   ]
  },
  {
   "cell_type": "markdown",
   "metadata": {},
   "source": [
    "The maximum likelihood estimate of $\\lambda$ in the Box-Cox transform:"
   ]
  },
  {
   "cell_type": "code",
   "execution_count": 26,
   "metadata": {},
   "outputs": [
    {
     "data": {
      "text/plain": [
       "0.13436569587437017"
      ]
     },
     "execution_count": 26,
     "metadata": {},
     "output_type": "execute_result"
    }
   ],
   "source": [
    "maxlog"
   ]
  },
  {
   "cell_type": "markdown",
   "metadata": {},
   "source": [
    "The 99% confidence interval for $\\lambda$:"
   ]
  },
  {
   "cell_type": "code",
   "execution_count": 27,
   "metadata": {},
   "outputs": [
    {
     "data": {
      "text/plain": [
       "(0.13291390124732358, 0.13582665450855202)"
      ]
     },
     "execution_count": 27,
     "metadata": {},
     "output_type": "execute_result"
    }
   ],
   "source": [
    "(min_ci, max_ci)"
   ]
  },
  {
   "cell_type": "markdown",
   "metadata": {},
   "source": [
    "Plot the newly transformed amounts:"
   ]
  },
  {
   "cell_type": "code",
   "execution_count": 28,
   "metadata": {},
   "outputs": [
    {
     "name": "stderr",
     "output_type": "stream",
     "text": [
      "C:\\Users\\mksmu\\miniconda3\\envs\\project\\lib\\site-packages\\seaborn\\distributions.py:2619: FutureWarning: `distplot` is a deprecated function and will be removed in a future version. Please adapt your code to use either `displot` (a figure-level function with similar flexibility) or `histplot` (an axes-level function for histograms).\n",
      "  warnings.warn(msg, FutureWarning)\n"
     ]
    },
    {
     "data": {
      "text/plain": [
       "Text(0.5, 1.0, 'Transaction Amounts (Box-Cox Transformed)')"
      ]
     },
     "execution_count": 28,
     "metadata": {},
     "output_type": "execute_result"
    },
    {
     "data": {
      "image/png": "[encoded data removed]",
      "text/plain": [
       "<Figure size 960x320 with 1 Axes>"
      ]
     },
     "metadata": {},
     "output_type": "display_data"
    }
   ],
   "source": [
    "plt.figure(figsize=(12,4), dpi=80)\n",
    "sns.distplot(X_train['Amount'], kde=False)\n",
    "plt.xlabel('Transformed Amount')\n",
    "plt.ylabel('Count')\n",
    "plt.title('Transaction Amounts (Box-Cox Transformed)')"
   ]
  },
  {
   "cell_type": "markdown",
   "metadata": {},
   "source": [
    "Much better. The distribution appears to be bimodal, suggesting a divide between \"small\" and \"large\" purchases. Now let's check the descriptive stats of the transformed amounts:"
   ]
  },
  {
   "cell_type": "code",
   "execution_count": 29,
   "metadata": {},
   "outputs": [
    {
     "data": {
      "text/plain": [
       "count    227845.000000\n",
       "mean          3.985515\n",
       "std           2.972505\n",
       "min          -6.982733\n",
       "25%           1.927181\n",
       "50%           3.831861\n",
       "75%           5.919328\n",
       "max          21.680567\n",
       "Name: Amount, dtype: float64"
      ]
     },
     "execution_count": 29,
     "metadata": {},
     "output_type": "execute_result"
    }
   ],
   "source": [
    "X_train['Amount'].describe()"
   ]
  },
  {
   "cell_type": "markdown",
   "metadata": {},
   "source": [
    "What's the skewness of the transformed amounts? (Zero skewness would be ideal.)"
   ]
  },
  {
   "cell_type": "code",
   "execution_count": 30,
   "metadata": {},
   "outputs": [
    {
     "data": {
      "text/plain": [
       "0.11421485939418571"
      ]
     },
     "execution_count": 30,
     "metadata": {},
     "output_type": "execute_result"
    }
   ],
   "source": [
    "X_train['Amount'].skew()"
   ]
  },
  {
   "cell_type": "markdown",
   "metadata": {},
   "source": [
    "So our power transform removed most of the skewness in the `Amount` variable. Now we need to compute the Box-Cox transform on the test data amounts as well, using the $\\lambda$ value estimated on the training data."
   ]
  },
  {
   "cell_type": "code",
   "execution_count": 31,
   "metadata": {},
   "outputs": [],
   "source": [
    "X_test.loc[:,'Amount'] = X_test['Amount'] + 1e-9 # Shift all amounts by 1e-9"
   ]
  },
  {
   "cell_type": "code",
   "execution_count": 32,
   "metadata": {},
   "outputs": [],
   "source": [
    "X_test.loc[:,'Amount'] = sp.stats.boxcox(X_test['Amount'], lmbda=maxlog)"
   ]
  },
  {
   "cell_type": "markdown",
   "metadata": {},
   "source": [
    "## 4.3 Time vs. Amount\n",
    "<a id='4.3'></a>"
   ]
  },
  {
   "cell_type": "markdown",
   "metadata": {},
   "source": [
    "Is there a relationship between the transaction amounts and the time of day? Let's explore this question with a joint histogram using hexagonal bins. For this plot, we convert each transaction time to the hour of the day on which it occurred."
   ]
  },
  {
   "cell_type": "markdown",
   "metadata": {},
   "source": [
    "## 4.4 V1-V28\n",
    "<a id='4.4'></a>"
   ]
  },
  {
   "cell_type": "markdown",
   "metadata": {},
   "source": [
    "Let's compare the descriptive stats of the PCA variables `V1-V28`."
   ]
  },
  {
   "cell_type": "code",
   "execution_count": 34,
   "metadata": {},
   "outputs": [],
   "source": [
    "pca_vars = ['V%i' % k for k in range(1,29)]"
   ]
  },
  {
   "cell_type": "markdown",
   "metadata": {},
   "source": [
    "Full table of descriptive stats:"
   ]
  },
  {
   "cell_type": "code",
   "execution_count": 35,
   "metadata": {},
   "outputs": [
    {
     "data": {
      "text/html": [
       "<div>\n",
       "<style scoped>\n",
       "    .dataframe tbody tr th:only-of-type {\n",
       "        vertical-align: middle;\n",
       "    }\n",
       "\n",
       "    .dataframe tbody tr th {\n",
       "        vertical-align: top;\n",
       "    }\n",
       "\n",
       "    .dataframe thead th {\n",
       "        text-align: right;\n",
       "    }\n",
       "</style>\n",
       "<table border=\"1\" class=\"dataframe\">\n",
       "  <thead>\n",
       "    <tr style=\"text-align: right;\">\n",
       "      <th></th>\n",
       "      <th>V1</th>\n",
       "      <th>V2</th>\n",
       "      <th>V3</th>\n",
       "      <th>V4</th>\n",
       "      <th>V5</th>\n",
       "      <th>V6</th>\n",
       "      <th>V7</th>\n",
       "      <th>V8</th>\n",
       "      <th>V9</th>\n",
       "      <th>V10</th>\n",
       "      <th>V11</th>\n",
       "      <th>V12</th>\n",
       "      <th>V13</th>\n",
       "      <th>V14</th>\n",
       "      <th>V15</th>\n",
       "      <th>V16</th>\n",
       "      <th>V17</th>\n",
       "      <th>V18</th>\n",
       "      <th>V19</th>\n",
       "      <th>V20</th>\n",
       "      <th>V21</th>\n",
       "      <th>V22</th>\n",
       "      <th>V23</th>\n",
       "      <th>V24</th>\n",
       "      <th>V25</th>\n",
       "      <th>V26</th>\n",
       "      <th>V27</th>\n",
       "      <th>V28</th>\n",
       "    </tr>\n",
       "  </thead>\n",
       "  <tbody>\n",
       "    <tr>\n",
       "      <th>count</th>\n",
       "      <td>227845.000000</td>\n",
       "      <td>227845.000000</td>\n",
       "      <td>227845.000000</td>\n",
       "      <td>227845.000000</td>\n",
       "      <td>227845.000000</td>\n",
       "      <td>227845.000000</td>\n",
       "      <td>227845.000000</td>\n",
       "      <td>227845.000000</td>\n",
       "      <td>227845.000000</td>\n",
       "      <td>227845.000000</td>\n",
       "      <td>227845.000000</td>\n",
       "      <td>227845.000000</td>\n",
       "      <td>227845.000000</td>\n",
       "      <td>227845.000000</td>\n",
       "      <td>227845.000000</td>\n",
       "      <td>227845.000000</td>\n",
       "      <td>227845.000000</td>\n",
       "      <td>227845.000000</td>\n",
       "      <td>227845.000000</td>\n",
       "      <td>227845.000000</td>\n",
       "      <td>227845.000000</td>\n",
       "      <td>227845.000000</td>\n",
       "      <td>227845.000000</td>\n",
       "      <td>227845.000000</td>\n",
       "      <td>227845.000000</td>\n",
       "      <td>227845.000000</td>\n",
       "      <td>227845.000000</td>\n",
       "      <td>227845.000000</td>\n",
       "    </tr>\n",
       "    <tr>\n",
       "      <th>mean</th>\n",
       "      <td>-0.000713</td>\n",
       "      <td>-0.001034</td>\n",
       "      <td>0.002557</td>\n",
       "      <td>0.003839</td>\n",
       "      <td>-0.002857</td>\n",
       "      <td>0.002085</td>\n",
       "      <td>0.000022</td>\n",
       "      <td>0.000093</td>\n",
       "      <td>0.000243</td>\n",
       "      <td>-0.000363</td>\n",
       "      <td>0.000651</td>\n",
       "      <td>-0.000834</td>\n",
       "      <td>-0.000976</td>\n",
       "      <td>0.002291</td>\n",
       "      <td>-0.000595</td>\n",
       "      <td>-0.000499</td>\n",
       "      <td>0.000587</td>\n",
       "      <td>0.001448</td>\n",
       "      <td>-0.000146</td>\n",
       "      <td>-0.000796</td>\n",
       "      <td>0.000023</td>\n",
       "      <td>0.000897</td>\n",
       "      <td>0.000765</td>\n",
       "      <td>-0.000380</td>\n",
       "      <td>0.000136</td>\n",
       "      <td>-0.000301</td>\n",
       "      <td>-0.000046</td>\n",
       "      <td>-0.000027</td>\n",
       "    </tr>\n",
       "    <tr>\n",
       "      <th>std</th>\n",
       "      <td>1.952399</td>\n",
       "      <td>1.636689</td>\n",
       "      <td>1.514288</td>\n",
       "      <td>1.417086</td>\n",
       "      <td>1.383532</td>\n",
       "      <td>1.333769</td>\n",
       "      <td>1.240239</td>\n",
       "      <td>1.200348</td>\n",
       "      <td>1.096453</td>\n",
       "      <td>1.082580</td>\n",
       "      <td>1.020932</td>\n",
       "      <td>1.000266</td>\n",
       "      <td>0.996678</td>\n",
       "      <td>0.957485</td>\n",
       "      <td>0.916946</td>\n",
       "      <td>0.876978</td>\n",
       "      <td>0.846748</td>\n",
       "      <td>0.838169</td>\n",
       "      <td>0.815140</td>\n",
       "      <td>0.767956</td>\n",
       "      <td>0.733325</td>\n",
       "      <td>0.725353</td>\n",
       "      <td>0.616772</td>\n",
       "      <td>0.605741</td>\n",
       "      <td>0.522184</td>\n",
       "      <td>0.482187</td>\n",
       "      <td>0.405182</td>\n",
       "      <td>0.331048</td>\n",
       "    </tr>\n",
       "    <tr>\n",
       "      <th>min</th>\n",
       "      <td>-56.407510</td>\n",
       "      <td>-72.715728</td>\n",
       "      <td>-48.325589</td>\n",
       "      <td>-5.683171</td>\n",
       "      <td>-113.743307</td>\n",
       "      <td>-26.160506</td>\n",
       "      <td>-43.557242</td>\n",
       "      <td>-73.216718</td>\n",
       "      <td>-13.434066</td>\n",
       "      <td>-24.588262</td>\n",
       "      <td>-4.797473</td>\n",
       "      <td>-18.431131</td>\n",
       "      <td>-5.791881</td>\n",
       "      <td>-19.214325</td>\n",
       "      <td>-4.498945</td>\n",
       "      <td>-14.129855</td>\n",
       "      <td>-25.162799</td>\n",
       "      <td>-9.335193</td>\n",
       "      <td>-7.213527</td>\n",
       "      <td>-54.497720</td>\n",
       "      <td>-34.830382</td>\n",
       "      <td>-10.933144</td>\n",
       "      <td>-36.666000</td>\n",
       "      <td>-2.836627</td>\n",
       "      <td>-8.696627</td>\n",
       "      <td>-2.534330</td>\n",
       "      <td>-22.565679</td>\n",
       "      <td>-15.430084</td>\n",
       "    </tr>\n",
       "    <tr>\n",
       "      <th>25%</th>\n",
       "      <td>-0.922830</td>\n",
       "      <td>-0.599928</td>\n",
       "      <td>-0.887861</td>\n",
       "      <td>-0.844052</td>\n",
       "      <td>-0.693702</td>\n",
       "      <td>-0.766195</td>\n",
       "      <td>-0.555377</td>\n",
       "      <td>-0.208302</td>\n",
       "      <td>-0.642006</td>\n",
       "      <td>-0.535079</td>\n",
       "      <td>-0.761255</td>\n",
       "      <td>-0.406597</td>\n",
       "      <td>-0.650225</td>\n",
       "      <td>-0.423563</td>\n",
       "      <td>-0.584357</td>\n",
       "      <td>-0.469513</td>\n",
       "      <td>-0.484153</td>\n",
       "      <td>-0.497660</td>\n",
       "      <td>-0.456946</td>\n",
       "      <td>-0.212129</td>\n",
       "      <td>-0.227952</td>\n",
       "      <td>-0.541079</td>\n",
       "      <td>-0.162242</td>\n",
       "      <td>-0.354208</td>\n",
       "      <td>-0.317488</td>\n",
       "      <td>-0.327576</td>\n",
       "      <td>-0.070767</td>\n",
       "      <td>-0.053013</td>\n",
       "    </tr>\n",
       "    <tr>\n",
       "      <th>50%</th>\n",
       "      <td>0.016743</td>\n",
       "      <td>0.064370</td>\n",
       "      <td>0.180865</td>\n",
       "      <td>-0.016750</td>\n",
       "      <td>-0.055388</td>\n",
       "      <td>-0.271706</td>\n",
       "      <td>0.039185</td>\n",
       "      <td>0.022594</td>\n",
       "      <td>-0.051224</td>\n",
       "      <td>-0.091877</td>\n",
       "      <td>-0.032213</td>\n",
       "      <td>0.141227</td>\n",
       "      <td>-0.014920</td>\n",
       "      <td>0.051939</td>\n",
       "      <td>0.047181</td>\n",
       "      <td>0.066080</td>\n",
       "      <td>-0.065260</td>\n",
       "      <td>-0.001867</td>\n",
       "      <td>0.004371</td>\n",
       "      <td>-0.062809</td>\n",
       "      <td>-0.029095</td>\n",
       "      <td>0.007661</td>\n",
       "      <td>-0.011184</td>\n",
       "      <td>0.040977</td>\n",
       "      <td>0.017081</td>\n",
       "      <td>-0.052599</td>\n",
       "      <td>0.001373</td>\n",
       "      <td>0.011255</td>\n",
       "    </tr>\n",
       "    <tr>\n",
       "      <th>75%</th>\n",
       "      <td>1.315147</td>\n",
       "      <td>0.801738</td>\n",
       "      <td>1.027592</td>\n",
       "      <td>0.746907</td>\n",
       "      <td>0.611056</td>\n",
       "      <td>0.401204</td>\n",
       "      <td>0.569307</td>\n",
       "      <td>0.328079</td>\n",
       "      <td>0.596563</td>\n",
       "      <td>0.455577</td>\n",
       "      <td>0.740921</td>\n",
       "      <td>0.617925</td>\n",
       "      <td>0.663521</td>\n",
       "      <td>0.495181</td>\n",
       "      <td>0.649788</td>\n",
       "      <td>0.522836</td>\n",
       "      <td>0.400067</td>\n",
       "      <td>0.501554</td>\n",
       "      <td>0.459695</td>\n",
       "      <td>0.132873</td>\n",
       "      <td>0.186678</td>\n",
       "      <td>0.529342</td>\n",
       "      <td>0.147825</td>\n",
       "      <td>0.438432</td>\n",
       "      <td>0.351400</td>\n",
       "      <td>0.240554</td>\n",
       "      <td>0.091028</td>\n",
       "      <td>0.078341</td>\n",
       "    </tr>\n",
       "    <tr>\n",
       "      <th>max</th>\n",
       "      <td>2.451888</td>\n",
       "      <td>22.057729</td>\n",
       "      <td>9.382558</td>\n",
       "      <td>16.715537</td>\n",
       "      <td>34.801666</td>\n",
       "      <td>73.301626</td>\n",
       "      <td>120.589494</td>\n",
       "      <td>20.007208</td>\n",
       "      <td>15.594995</td>\n",
       "      <td>23.745136</td>\n",
       "      <td>12.018913</td>\n",
       "      <td>7.848392</td>\n",
       "      <td>7.126883</td>\n",
       "      <td>10.526766</td>\n",
       "      <td>8.877742</td>\n",
       "      <td>17.315112</td>\n",
       "      <td>9.207059</td>\n",
       "      <td>5.041069</td>\n",
       "      <td>5.591971</td>\n",
       "      <td>39.420904</td>\n",
       "      <td>27.202839</td>\n",
       "      <td>10.503090</td>\n",
       "      <td>22.083545</td>\n",
       "      <td>4.584549</td>\n",
       "      <td>7.519589</td>\n",
       "      <td>3.517346</td>\n",
       "      <td>31.612198</td>\n",
       "      <td>33.847808</td>\n",
       "    </tr>\n",
       "  </tbody>\n",
       "</table>\n",
       "</div>"
      ],
      "text/plain": [
       "                  V1             V2             V3             V4  \\\n",
       "count  227845.000000  227845.000000  227845.000000  227845.000000   \n",
       "mean       -0.000713      -0.001034       0.002557       0.003839   \n",
       "std         1.952399       1.636689       1.514288       1.417086   \n",
       "min       -56.407510     -72.715728     -48.325589      -5.683171   \n",
       "25%        -0.922830      -0.599928      -0.887861      -0.844052   \n",
       "50%         0.016743       0.064370       0.180865      -0.016750   \n",
       "75%         1.315147       0.801738       1.027592       0.746907   \n",
       "max         2.451888      22.057729       9.382558      16.715537   \n",
       "\n",
       "                  V5             V6             V7             V8  \\\n",
       "count  227845.000000  227845.000000  227845.000000  227845.000000   \n",
       "mean       -0.002857       0.002085       0.000022       0.000093   \n",
       "std         1.383532       1.333769       1.240239       1.200348   \n",
       "min      -113.743307     -26.160506     -43.557242     -73.216718   \n",
       "25%        -0.693702      -0.766195      -0.555377      -0.208302   \n",
       "50%        -0.055388      -0.271706       0.039185       0.022594   \n",
       "75%         0.611056       0.401204       0.569307       0.328079   \n",
       "max        34.801666      73.301626     120.589494      20.007208   \n",
       "\n",
       "                  V9            V10            V11            V12  \\\n",
       "count  227845.000000  227845.000000  227845.000000  227845.000000   \n",
       "mean        0.000243      -0.000363       0.000651      -0.000834   \n",
       "std         1.096453       1.082580       1.020932       1.000266   \n",
       "min       -13.434066     -24.588262      -4.797473     -18.431131   \n",
       "25%        -0.642006      -0.535079      -0.761255      -0.406597   \n",
       "50%        -0.051224      -0.091877      -0.032213       0.141227   \n",
       "75%         0.596563       0.455577       0.740921       0.617925   \n",
       "max        15.594995      23.745136      12.018913       7.848392   \n",
       "\n",
       "                 V13            V14            V15            V16  \\\n",
       "count  227845.000000  227845.000000  227845.000000  227845.000000   \n",
       "mean       -0.000976       0.002291      -0.000595      -0.000499   \n",
       "std         0.996678       0.957485       0.916946       0.876978   \n",
       "min        -5.791881     -19.214325      -4.498945     -14.129855   \n",
       "25%        -0.650225      -0.423563      -0.584357      -0.469513   \n",
       "50%        -0.014920       0.051939       0.047181       0.066080   \n",
       "75%         0.663521       0.495181       0.649788       0.522836   \n",
       "max         7.126883      10.526766       8.877742      17.315112   \n",
       "\n",
       "                 V17            V18            V19            V20  \\\n",
       "count  227845.000000  227845.000000  227845.000000  227845.000000   \n",
       "mean        0.000587       0.001448      -0.000146      -0.000796   \n",
       "std         0.846748       0.838169       0.815140       0.767956   \n",
       "min       -25.162799      -9.335193      -7.213527     -54.497720   \n",
       "25%        -0.484153      -0.497660      -0.456946      -0.212129   \n",
       "50%        -0.065260      -0.001867       0.004371      -0.062809   \n",
       "75%         0.400067       0.501554       0.459695       0.132873   \n",
       "max         9.207059       5.041069       5.591971      39.420904   \n",
       "\n",
       "                 V21            V22            V23            V24  \\\n",
       "count  227845.000000  227845.000000  227845.000000  227845.000000   \n",
       "mean        0.000023       0.000897       0.000765      -0.000380   \n",
       "std         0.733325       0.725353       0.616772       0.605741   \n",
       "min       -34.830382     -10.933144     -36.666000      -2.836627   \n",
       "25%        -0.227952      -0.541079      -0.162242      -0.354208   \n",
       "50%        -0.029095       0.007661      -0.011184       0.040977   \n",
       "75%         0.186678       0.529342       0.147825       0.438432   \n",
       "max        27.202839      10.503090      22.083545       4.584549   \n",
       "\n",
       "                 V25            V26            V27            V28  \n",
       "count  227845.000000  227845.000000  227845.000000  227845.000000  \n",
       "mean        0.000136      -0.000301      -0.000046      -0.000027  \n",
       "std         0.522184       0.482187       0.405182       0.331048  \n",
       "min        -8.696627      -2.534330     -22.565679     -15.430084  \n",
       "25%        -0.317488      -0.327576      -0.070767      -0.053013  \n",
       "50%         0.017081      -0.052599       0.001373       0.011255  \n",
       "75%         0.351400       0.240554       0.091028       0.078341  \n",
       "max         7.519589       3.517346      31.612198      33.847808  "
      ]
     },
     "execution_count": 35,
     "metadata": {},
     "output_type": "execute_result"
    }
   ],
   "source": [
    "X_train[pca_vars].describe()"
   ]
  },
  {
   "cell_type": "markdown",
   "metadata": {},
   "source": [
    "It's tedious to interpret this table, so let's make some visualizations. We'll start by plotting the means:"
   ]
  },
  {
   "cell_type": "code",
   "execution_count": 36,
   "metadata": {},
   "outputs": [
    {
     "data": {
      "text/plain": [
       "Text(0.5, 1.0, 'V1-V28 Means')"
      ]
     },
     "execution_count": 36,
     "metadata": {},
     "output_type": "execute_result"
    },
    {
     "data": {
      "image/png": "[encoded data removed]",
      "text/plain": [
       "<Figure size 960x320 with 1 Axes>"
      ]
     },
     "metadata": {},
     "output_type": "display_data"
    }
   ],
   "source": [
    "plt.figure(figsize=(12,4), dpi=80)\n",
    "sns.barplot(x=pca_vars, y=X_train[pca_vars].mean(), color='darkblue')\n",
    "plt.xlabel('Column')\n",
    "plt.ylabel('Mean')\n",
    "plt.title('V1-V28 Means')"
   ]
  },
  {
   "cell_type": "markdown",
   "metadata": {},
   "source": [
    "All of `V1-V28` have approximately zero mean. Now plot the standard deviations:"
   ]
  },
  {
   "cell_type": "code",
   "execution_count": 37,
   "metadata": {},
   "outputs": [
    {
     "data": {
      "text/plain": [
       "Text(0.5, 1.0, 'V1-V28 Standard Deviations')"
      ]
     },
     "execution_count": 37,
     "metadata": {},
     "output_type": "execute_result"
    },
    {
     "data": {
      "image/png": "[encoded data removed]",
      "text/plain": [
       "<Figure size 960x320 with 1 Axes>"
      ]
     },
     "metadata": {},
     "output_type": "display_data"
    }
   ],
   "source": [
    "plt.figure(figsize=(12,4), dpi=80)\n",
    "sns.barplot(x=pca_vars, y=X_train[pca_vars].std(), color='darkred')\n",
    "plt.xlabel('Column')\n",
    "plt.ylabel('Standard Deviation')\n",
    "plt.title('V1-V28 Standard Deviations')"
   ]
  },
  {
   "cell_type": "markdown",
   "metadata": {},
   "source": [
    "The PCA variables have roughly unit variance, but as low as ~0.3 and as high as ~1.9. Plot the skewnesses next:"
   ]
  },
  {
   "cell_type": "code",
   "execution_count": 38,
   "metadata": {},
   "outputs": [
    {
     "data": {
      "text/plain": [
       "Text(0.5, 1.0, 'V1-V28 Skewnesses')"
      ]
     },
     "execution_count": 38,
     "metadata": {},
     "output_type": "execute_result"
    },
    {
     "data": {
      "image/png": "[encoded data removed]",
      "text/plain": [
       "<Figure size 960x320 with 1 Axes>"
      ]
     },
     "metadata": {},
     "output_type": "display_data"
    }
   ],
   "source": [
    "plt.figure(figsize=(12,4), dpi=80)\n",
    "sns.barplot(x=pca_vars, y=X_train[pca_vars].skew(), color='darkgreen')\n",
    "plt.xlabel('Column')\n",
    "plt.ylabel('Skewness')\n",
    "plt.title('V1-V28 Skewnesses')"
   ]
  },
  {
   "cell_type": "markdown",
   "metadata": {},
   "source": [
    "A few of the PCA variables are significantly skewed. Let's plot a histogram of one of the particularly skewed variables, `V8`, to see the distribution in detail."
   ]
  },
  {
   "cell_type": "code",
   "execution_count": 39,
   "metadata": {},
   "outputs": [
    {
     "name": "stderr",
     "output_type": "stream",
     "text": [
      "C:\\Users\\mksmu\\miniconda3\\envs\\project\\lib\\site-packages\\seaborn\\distributions.py:2619: FutureWarning: `distplot` is a deprecated function and will be removed in a future version. Please adapt your code to use either `displot` (a figure-level function with similar flexibility) or `histplot` (an axes-level function for histograms).\n",
      "  warnings.warn(msg, FutureWarning)\n"
     ]
    },
    {
     "data": {
      "text/plain": [
       "Text(0.5, 1.0, 'V8')"
      ]
     },
     "execution_count": 39,
     "metadata": {},
     "output_type": "execute_result"
    },
    {
     "data": {
      "image/png": "[encoded data removed]",
      "text/plain": [
       "<Figure size 960x320 with 1 Axes>"
      ]
     },
     "metadata": {},
     "output_type": "display_data"
    }
   ],
   "source": [
    "plt.figure(figsize=(12,4), dpi=80)\n",
    "sns.distplot(X_train['V8'], bins=300, kde=False)\n",
    "plt.ylabel('Count')\n",
    "plt.title('V8')"
   ]
  },
  {
   "cell_type": "markdown",
   "metadata": {},
   "source": [
    "The histogram doesn't show us outliers. Let's try a boxplot:"
   ]
  },
  {
   "cell_type": "code",
   "execution_count": 40,
   "metadata": {},
   "outputs": [
    {
     "name": "stderr",
     "output_type": "stream",
     "text": [
      "C:\\Users\\mksmu\\miniconda3\\envs\\project\\lib\\site-packages\\seaborn\\_decorators.py:43: FutureWarning: Pass the following variable as a keyword arg: x. From version 0.12, the only valid positional argument will be `data`, and passing other arguments without an explicit keyword will result in an error or misinterpretation.\n",
      "  FutureWarning\n"
     ]
    },
    {
     "data": {
      "text/plain": [
       "Text(0.5, 1.0, 'V8')"
      ]
     },
     "execution_count": 40,
     "metadata": {},
     "output_type": "execute_result"
    },
    {
     "data": {
      "image/png": "[encoded data removed]",
      "text/plain": [
       "<Figure size 960x320 with 1 Axes>"
      ]
     },
     "metadata": {},
     "output_type": "display_data"
    }
   ],
   "source": [
    "plt.figure(figsize=(12,4), dpi=80)\n",
    "sns.boxplot(X_train['V8'])\n",
    "plt.title('V8')"
   ]
  },
  {
   "cell_type": "markdown",
   "metadata": {},
   "source": [
    "The boxplot is also hard to read due to the large number of outliers, which indicates high kurtosis in `V8`. This motivates us to plot the kurtoses of the PCA variables. The kurtosis method employed in pandas is Fisher’s definition, for which the standard normal distribution has kurtosis 0."
   ]
  },
  {
   "cell_type": "markdown",
   "metadata": {},
   "source": [
    "Note the log scale on the y-axis in the plot below:"
   ]
  },
  {
   "cell_type": "code",
   "execution_count": 41,
   "metadata": {},
   "outputs": [
    {
     "data": {
      "text/plain": [
       "Text(0.5, 1.0, 'V1-V28 Kurtoses')"
      ]
     },
     "execution_count": 41,
     "metadata": {},
     "output_type": "execute_result"
    },
    {
     "data": {
      "image/png": "[encoded data removed]",
      "text/plain": [
       "<Figure size 960x320 with 1 Axes>"
      ]
     },
     "metadata": {},
     "output_type": "display_data"
    }
   ],
   "source": [
    "plt.figure(figsize=(12,4), dpi=80)\n",
    "plt.yscale('log')\n",
    "sns.barplot(x=pca_vars, y=X_train[pca_vars].kurtosis(), color='darkorange')\n",
    "plt.xlabel('Column')\n",
    "plt.ylabel('Kurtosis')\n",
    "plt.title('V1-V28 Kurtoses')"
   ]
  },
  {
   "cell_type": "markdown",
   "metadata": {},
   "source": [
    "We've learned that many of the PCA variables are heavy-tailed. The large numbers of outliers in `V1-V28` motivates us to consider robust descriptive statistics. Let's plot the medians:"
   ]
  },
  {
   "cell_type": "code",
   "execution_count": 42,
   "metadata": {},
   "outputs": [
    {
     "data": {
      "text/plain": [
       "Text(0.5, 1.0, 'V1-V28 Medians')"
      ]
     },
     "execution_count": 42,
     "metadata": {},
     "output_type": "execute_result"
    },
    {
     "data": {
      "image/png": "[encoded data removed]",
      "text/plain": [
       "<Figure size 960x320 with 1 Axes>"
      ]
     },
     "metadata": {},
     "output_type": "display_data"
    }
   ],
   "source": [
    "plt.figure(figsize=(12,4), dpi=80)\n",
    "sns.barplot(x=pca_vars, y=X_train[pca_vars].median(), color='darkblue')\n",
    "plt.xlabel('Column')\n",
    "plt.ylabel('Median')\n",
    "plt.title('V1-V28 Medians')"
   ]
  },
  {
   "cell_type": "markdown",
   "metadata": {},
   "source": [
    "The medians are also roughly zero. Next let's look at the interquartile ranges (IQR)*:\n",
    "\n",
    "*Pandas does not have a built-in IQR method, but we can use the [`quantile`](https://pandas.pydata.org/pandas-docs/stable/generated/pandas.DataFrame.quantile.html) method to calculate the IQR."
   ]
  },
  {
   "cell_type": "code",
   "execution_count": 43,
   "metadata": {},
   "outputs": [
    {
     "data": {
      "text/plain": [
       "Text(0.5, 1.0, 'V1-V28 IQRs')"
      ]
     },
     "execution_count": 43,
     "metadata": {},
     "output_type": "execute_result"
    },
    {
     "data": {
      "image/png": "[encoded data removed]",
      "text/plain": [
       "<Figure size 960x320 with 1 Axes>"
      ]
     },
     "metadata": {},
     "output_type": "display_data"
    }
   ],
   "source": [
    "plt.figure(figsize=(12,4), dpi=80)\n",
    "sns.barplot(x=pca_vars, y=X_train[pca_vars].quantile(0.75) - X_train[pca_vars].quantile(0.25), color='darkred')\n",
    "plt.xlabel('Column')\n",
    "plt.ylabel('IQR')\n",
    "plt.title('V1-V28 IQRs')"
   ]
  },
  {
   "cell_type": "markdown",
   "metadata": {},
   "source": [
    "The IQRs of `V1-V28` are on a similar scale as the standard deviations."
   ]
  },
  {
   "cell_type": "markdown",
   "metadata": {},
   "source": [
    "# 5. Mutual Information between Fraud and the Predictors\n",
    "<a id='5'></a>"
   ]
  },
  {
   "cell_type": "markdown",
   "metadata": {},
   "source": [
    "[Mutual information](https://en.wikipedia.org/wiki/Mutual_information) is a non-parametric method to estimate the mutual dependence between two variables. Mutual information of 0 indicates no dependence, and higher values indicate higher dependence. According to the [sklearn User Guide](http://scikit-learn.org/stable/modules/feature_selection.html#univariate-feature-selection), \"mutual information methods can capture any kind of statistical dependency, but being nonparametric, they require more samples for accurate estimation.\" We have 227,845 training samples, so mutual information should work well. Because the target variable is discrete, we use [`mutual_info_classif`](http://scikit-learn.org/stable/modules/generated/sklearn.feature_selection.mutual_info_classif.html#sklearn.feature_selection.mutual_info_classif) (as opposed to [`mutual_info_regression`](http://scikit-learn.org/stable/modules/generated/sklearn.feature_selection.mutual_info_regression.html#sklearn.feature_selection.mutual_info_regression) for a continuous target)."
   ]
  },
  {
   "cell_type": "code",
   "execution_count": 44,
   "metadata": {},
   "outputs": [],
   "source": [
    "from sklearn.feature_selection import mutual_info_classif"
   ]
  },
  {
   "cell_type": "code",
   "execution_count": 45,
   "metadata": {},
   "outputs": [],
   "source": [
    "mutual_infos = pd.Series(data=mutual_info_classif(X_train, y_train, discrete_features=False, random_state=1), index=X_train.columns)"
   ]
  },
  {
   "cell_type": "markdown",
   "metadata": {},
   "source": [
    "The calculated mutual informations of each variable with `Class`, in descending order:"
   ]
  },
  {
   "cell_type": "code",
   "execution_count": 46,
   "metadata": {},
   "outputs": [
    {
     "data": {
      "text/plain": [
       "V17       0.008037\n",
       "V14       0.007977\n",
       "V10       0.007354\n",
       "V12       0.007354\n",
       "V11       0.006607\n",
       "V16       0.005793\n",
       "V4        0.004843\n",
       "V3        0.004755\n",
       "V18       0.004025\n",
       "V9        0.003996\n",
       "V7        0.003941\n",
       "V2        0.003085\n",
       "V21       0.002304\n",
       "V27       0.002271\n",
       "V6        0.002265\n",
       "V5        0.002254\n",
       "V1        0.001990\n",
       "V8        0.001843\n",
       "V28       0.001757\n",
       "Time      0.001722\n",
       "Amount    0.001422\n",
       "V19       0.001322\n",
       "V20       0.001136\n",
       "V23       0.000827\n",
       "V24       0.000593\n",
       "V26       0.000459\n",
       "V22       0.000388\n",
       "V25       0.000376\n",
       "V15       0.000230\n",
       "V13       0.000205\n",
       "dtype: float64"
      ]
     },
     "execution_count": 46,
     "metadata": {},
     "output_type": "execute_result"
    }
   ],
   "source": [
    "mutual_infos.sort_values(ascending=False)"
   ]
  },
  {
   "cell_type": "markdown",
   "metadata": {},
   "source": [
    "The five most correlated variables with `Class` are, in decreasing order, V17, V14, V10, V12, and V11."
   ]
  },
  {
   "cell_type": "markdown",
   "metadata": {
    "_cell_guid": "4cb52db6-f54a-4f1f-a056-332413a2bf8f",
    "_uuid": "337f0cff30885c40ff909ff41d39f23637ce2f02"
   },
   "source": [
    "# 6. Modeling\n",
    "<a id='6'></a>"
   ]
  },
  {
   "cell_type": "markdown",
   "metadata": {},
   "source": [
    "Now we're ready to build machine learning models to predict whether a transaction is fraudulent. We'll train the following models:\n",
    "* Logistic regression\n",
    "* Support vector classifier\n",
    "* Random forest"
   ]
  },
  {
   "cell_type": "markdown",
   "metadata": {
    "_cell_guid": "ff58210c-bff5-4802-a598-a14ba65ab132",
    "_uuid": "42bee521e8051396dd2c728126e5569ee5707daf"
   },
   "source": [
    "## 6.1 Logistic Regression and Support Vector Classifier\n",
    "<a id='6.1'></a>"
   ]
  },
  {
   "cell_type": "markdown",
   "metadata": {
    "_cell_guid": "05340a29-ef89-41e0-9707-e144b09cc556",
    "_uuid": "16b1b1f0be5e5d7b2b921c2b5b1936940d0646c2"
   },
   "source": [
    "The class [`SGDClassifier`](http://scikit-learn.org/stable/modules/generated/sklearn.linear_model.SGDClassifier.html) implements multiple linear classifiers with SGD training, which makes learning much faster on large datasets. We'll implement the model as a machine learning pipeline that includes [`StandardScaler`](http://scikit-learn.org/stable/modules/generated/sklearn.preprocessing.StandardScaler.html) for data standardization (rescaling each variable to zero mean and unit variance)."
   ]
  },
  {
   "cell_type": "code",
   "execution_count": 47,
   "metadata": {
    "_cell_guid": "13db0842-917a-4559-97fc-348c0a1cd5a7",
    "_uuid": "d24a95d46fb8ff54928a1287fd81bd6d2ed00899"
   },
   "outputs": [],
   "source": [
    "from sklearn.pipeline import Pipeline\n",
    "from sklearn.preprocessing import StandardScaler\n",
    "from sklearn.linear_model import SGDClassifier"
   ]
  },
  {
   "cell_type": "code",
   "execution_count": 48,
   "metadata": {},
   "outputs": [],
   "source": [
    "pipeline_sgd = Pipeline([\n",
    "    ('scaler', StandardScaler(copy=False)),\n",
    "    ('model', SGDClassifier(max_iter=1000, tol=1e-3, random_state=1, warm_start=True))\n",
    "])"
   ]
  },
  {
   "cell_type": "markdown",
   "metadata": {
    "_cell_guid": "85f67845-4095-4094-a076-07cbbf137b29",
    "_uuid": "a49896a87a78f2d9ba76dad2c8ed42e5b36e326c"
   },
   "source": [
    "We'll conduct a grid search over several hyperparameter choices. The search uses 5-fold cross-validation with stratified folds. The type of linear classifier is chosen with the `loss` hyperparameter. For a linear SVC we set `loss = 'hinge'`, and for logistic regression we set `loss = 'log'`.\n",
    "\n",
    "Set the hyperparameter grids to search over, one grid for the linear SVC and one for logistic regression:"
   ]
  },
  {
   "cell_type": "code",
   "execution_count": 49,
   "metadata": {
    "_cell_guid": "f365e59e-41df-46f0-8f17-5f82a5db63b4",
    "_uuid": "12ec50d10be23449df42ac265d1703f52443bb83"
   },
   "outputs": [],
   "source": [
    "param_grid_sgd = [{\n",
    "    'model__loss': ['log'],\n",
    "    'model__penalty': ['l1', 'l2'],\n",
    "    'model__alpha': np.logspace(start=-3, stop=3, num=20)\n",
    "}, {\n",
    "    'model__loss': ['hinge'],\n",
    "    'model__alpha': np.logspace(start=-3, stop=3, num=20),\n",
    "    'model__class_weight': [None, 'balanced']\n",
    "}]"
   ]
  },
  {
   "cell_type": "markdown",
   "metadata": {
    "_cell_guid": "6f3ae04e-5a6f-4da6-b695-df37b59f3e98",
    "_uuid": "ccec293d64596dbe036006319a002eb5e6a20556"
   },
   "source": [
    "The grid search, implemented by [`GridSearchCV`](http://scikit-learn.org/stable/modules/generated/sklearn.model_selection.GridSearchCV.html), uses [`StratifiedKFold`](http://scikit-learn.org/stable/modules/generated/sklearn.model_selection.StratifiedKFold.html#sklearn.model_selection.StratifiedKFold) with 5 folds for the train/validation splits. We'll use [`matthews_corrcoef`](http://scikit-learn.org/stable/modules/generated/sklearn.metrics.matthews_corrcoef.html) (the [Matthews correlation coefficient](https://en.wikipedia.org/wiki/Matthews_correlation_coefficient), MCC) as our scoring metric."
   ]
  },
  {
   "cell_type": "code",
   "execution_count": 50,
   "metadata": {
    "_cell_guid": "923a203f-20de-4f82-89d3-e2207a843669",
    "_uuid": "2e87d978dcf446ad11025d41f7b4a2220355b385"
   },
   "outputs": [],
   "source": [
    "from sklearn.model_selection import GridSearchCV\n",
    "from sklearn.metrics import make_scorer, matthews_corrcoef"
   ]
  },
  {
   "cell_type": "code",
   "execution_count": 51,
   "metadata": {
    "_cell_guid": "24614f27-48a8-4093-b47e-88b11fc3099d",
    "_uuid": "84826d16dcff9280efb3d821211c7f7b62d00620"
   },
   "outputs": [],
   "source": [
    "MCC_scorer = make_scorer(matthews_corrcoef)\n",
    "grid_sgd = GridSearchCV(estimator=pipeline_sgd, param_grid=param_grid_sgd, scoring=MCC_scorer, n_jobs=-1, pre_dispatch='2*n_jobs', cv=5, verbose=1, return_train_score=False)"
   ]
  },
  {
   "cell_type": "markdown",
   "metadata": {
    "_cell_guid": "e24b2f08-2e0d-48ea-80c7-e1e94f202c09",
    "_uuid": "a5207699474eea2ab2e08356215dcd3571a0da3a"
   },
   "source": [
    "Perform the grid search:"
   ]
  },
  {
   "cell_type": "code",
   "execution_count": 52,
   "metadata": {
    "_cell_guid": "e91120ad-d2cf-4387-b6c0-c61917510a7b",
    "_uuid": "d0dbc65a80835afb2ce94217f1c07c8e0a80d3fd"
   },
   "outputs": [
    {
     "name": "stdout",
     "output_type": "stream",
     "text": [
      "Fitting 5 folds for each of 80 candidates, totalling 400 fits\n"
     ]
    }
   ],
   "source": [
    "import warnings\n",
    "with warnings.catch_warnings(): # Suppress warnings from the matthews_corrcoef function\n",
    "    warnings.simplefilter(\"ignore\")\n",
    "    grid_sgd.fit(X_train, y_train)"
   ]
  },
  {
   "cell_type": "markdown",
   "metadata": {},
   "source": [
    "Mean cross-validated MCC score of the best estimator found:"
   ]
  },
  {
   "cell_type": "code",
   "execution_count": 53,
   "metadata": {},
   "outputs": [
    {
     "data": {
      "text/plain": [
       "0.8054381462050987"
      ]
     },
     "execution_count": 53,
     "metadata": {},
     "output_type": "execute_result"
    }
   ],
   "source": [
    "grid_sgd.best_score_"
   ]
  },
  {
   "cell_type": "markdown",
   "metadata": {
    "_cell_guid": "349055be-f543-45ec-9d49-5602610440da",
    "_uuid": "7b7d88c3a0abb8d03e2fcc0b4f4a6fefbaeca8f2"
   },
   "source": [
    "This is a pretty good MCC score---random guessing has a score of 0, and a perfect predictor has a score of 1. Now check the best hyperparameters found in the grid search:"
   ]
  },
  {
   "cell_type": "code",
   "execution_count": 54,
   "metadata": {
    "_cell_guid": "9f12d8ea-bc2c-4fd4-bab1-5aff65c54906",
    "_uuid": "836dc9e7f4cfe909f212f386e38692a070c59c9e"
   },
   "outputs": [
    {
     "data": {
      "text/plain": [
       "{'model__alpha': 233.57214690901213,\n",
       " 'model__class_weight': 'balanced',\n",
       " 'model__loss': 'hinge'}"
      ]
     },
     "execution_count": 54,
     "metadata": {},
     "output_type": "execute_result"
    }
   ],
   "source": [
    "grid_sgd.best_params_"
   ]
  },
  {
   "cell_type": "markdown",
   "metadata": {},
   "source": [
    "So the linear SVC performed better than logistic regression, and with a high level of regularization ($\\alpha\\approx 483$)."
   ]
  },
  {
   "cell_type": "markdown",
   "metadata": {
    "_cell_guid": "e9d7a963-410a-431e-b8ab-54597f4c7525",
    "_uuid": "ec7558d55c8a6abc525f49cd553f572bd8c37557"
   },
   "source": [
    "## 6.2 Random Forest\n",
    "<a id='6.2'></a>"
   ]
  },
  {
   "cell_type": "markdown",
   "metadata": {},
   "source": [
    "Next we'll try a random forest model, implemented in [`RandomForestClassifier`](http://scikit-learn.org/stable/modules/generated/sklearn.ensemble.RandomForestClassifier.html)."
   ]
  },
  {
   "cell_type": "code",
   "execution_count": 55,
   "metadata": {
    "_cell_guid": "7fee44fa-ad54-429a-ab97-b8a41184030e",
    "_uuid": "493cc36f8bdd5eb5b4c898bf01ec1f1c93688a91"
   },
   "outputs": [],
   "source": [
    "from sklearn.ensemble import RandomForestClassifier"
   ]
  },
  {
   "cell_type": "markdown",
   "metadata": {},
   "source": [
    "We do not need to rescale the data for tree-based models, so our pipeline will simply consist of the random forest model. We'll leave the pipeline implementation in place in case we want to add preprocessing steps in the future."
   ]
  },
  {
   "cell_type": "code",
   "execution_count": 56,
   "metadata": {},
   "outputs": [],
   "source": [
    "pipeline_rf = Pipeline([\n",
    "    ('model', RandomForestClassifier(n_jobs=-1, random_state=1))\n",
    "])"
   ]
  },
  {
   "cell_type": "markdown",
   "metadata": {
    "_cell_guid": "2dca52bf-7286-4afc-af09-5c5d6c3bda07",
    "_uuid": "33126a40a3f4d1d4d6a8cff170a9f636cf273efa"
   },
   "source": [
    "The random forest takes much longer to train on this fairly large dataset, so we don't actually do a hyperparameter grid search, only specifiying the number of estimators. We'll leave the grid search implemented in case we decide to try different hyperparameter values in the future."
   ]
  },
  {
   "cell_type": "code",
   "execution_count": 57,
   "metadata": {
    "_cell_guid": "f365e59e-41df-46f0-8f17-5f82a5db63b4",
    "_uuid": "12ec50d10be23449df42ac265d1703f52443bb83"
   },
   "outputs": [],
   "source": [
    "param_grid_rf = {'model__n_estimators': [75]}"
   ]
  },
  {
   "cell_type": "code",
   "execution_count": 58,
   "metadata": {
    "_cell_guid": "24614f27-48a8-4093-b47e-88b11fc3099d",
    "_uuid": "84826d16dcff9280efb3d821211c7f7b62d00620"
   },
   "outputs": [],
   "source": [
    "grid_rf = GridSearchCV(estimator=pipeline_rf, param_grid=param_grid_rf, scoring=MCC_scorer, n_jobs=-1, pre_dispatch='2*n_jobs', cv=5, verbose=1, return_train_score=False)"
   ]
  },
  {
   "cell_type": "markdown",
   "metadata": {
    "_cell_guid": "e24b2f08-2e0d-48ea-80c7-e1e94f202c09",
    "_uuid": "a5207699474eea2ab2e08356215dcd3571a0da3a"
   },
   "source": [
    "Perform the grid search:"
   ]
  },
  {
   "cell_type": "code",
   "execution_count": 59,
   "metadata": {
    "_cell_guid": "e91120ad-d2cf-4387-b6c0-c61917510a7b",
    "_uuid": "d0dbc65a80835afb2ce94217f1c07c8e0a80d3fd"
   },
   "outputs": [
    {
     "name": "stdout",
     "output_type": "stream",
     "text": [
      "Fitting 5 folds for each of 1 candidates, totalling 5 fits\n"
     ]
    },
    {
     "data": {
      "text/plain": [
       "GridSearchCV(cv=5,\n",
       "             estimator=Pipeline(steps=[('model',\n",
       "                                        RandomForestClassifier(n_jobs=-1,\n",
       "                                                               random_state=1))]),\n",
       "             n_jobs=-1, param_grid={'model__n_estimators': [75]},\n",
       "             scoring=make_scorer(matthews_corrcoef), verbose=1)"
      ]
     },
     "execution_count": 59,
     "metadata": {},
     "output_type": "execute_result"
    }
   ],
   "source": [
    "grid_rf.fit(X_train, y_train)"
   ]
  },
  {
   "cell_type": "code",
   "execution_count": 60,
   "metadata": {},
   "outputs": [],
   "source": [
    "import pickle\n",
    "pickle.dump(grid_rf, open('F:\\Internship project\\Machine Learning\\Fraud Detection\\Fraud_detection_dvc_mlops\\models\\model.pkl', 'wb'))"
   ]
  },
  {
   "cell_type": "code",
   "execution_count": 61,
   "metadata": {},
   "outputs": [
    {
     "data": {
      "text/plain": [
       "0.8596447282953857"
      ]
     },
     "execution_count": 61,
     "metadata": {},
     "output_type": "execute_result"
    }
   ],
   "source": [
    "grid_rf.best_score_"
   ]
  },
  {
   "cell_type": "markdown",
   "metadata": {},
   "source": [
    "The random forest performed much better than the linear SVC---and without any hyperparameter tweaking!"
   ]
  },
  {
   "cell_type": "code",
   "execution_count": 62,
   "metadata": {
    "_cell_guid": "9f12d8ea-bc2c-4fd4-bab1-5aff65c54906",
    "_uuid": "836dc9e7f4cfe909f212f386e38692a070c59c9e"
   },
   "outputs": [
    {
     "data": {
      "text/plain": [
       "{'model__n_estimators': 75}"
      ]
     },
     "execution_count": 62,
     "metadata": {},
     "output_type": "execute_result"
    }
   ],
   "source": [
    "grid_rf.best_params_"
   ]
  },
  {
   "cell_type": "markdown",
   "metadata": {
    "_cell_guid": "0ccfb680-5f71-45bf-9ad0-eb92fa77f4c6",
    "_uuid": "0b2c4867b3ee9e908bf7613480dee910e05ce11a"
   },
   "source": [
    "# 7. Test Set Evaluation of the Best Model\n",
    "<a id='7'></a>"
   ]
  },
  {
   "cell_type": "markdown",
   "metadata": {},
   "source": [
    "According to the cross-validated MCC scores, the random forest is the best-performing model, so now let's evaluate its performance on the test set."
   ]
  },
  {
   "cell_type": "code",
   "execution_count": 63,
   "metadata": {
    "_cell_guid": "275cb55b-b9c8-482f-86b3-6c82caf7c153",
    "_uuid": "2bb7a6794a5f4e98773f2b26cba0ba71a6472aad"
   },
   "outputs": [],
   "source": [
    "from sklearn.metrics import confusion_matrix, classification_report, matthews_corrcoef, cohen_kappa_score, accuracy_score, average_precision_score, roc_auc_score"
   ]
  },
  {
   "cell_type": "code",
   "execution_count": 64,
   "metadata": {
    "_cell_guid": "13f72647-4a31-47a2-9971-871c8df09aa9",
    "_uuid": "4ad4004eafcca2ae59ac198327e952fe93fe889c"
   },
   "outputs": [],
   "source": [
    "def classification_eval(estimator, X_test, y_test):\n",
    "    \"\"\"\n",
    "    Print several metrics of classification performance of an estimator, given features X_test and true labels y_test.\n",
    "    \n",
    "    Input: estimator or GridSearchCV instance, X_test, y_test\n",
    "    Returns: text printout of metrics\n",
    "    \"\"\"\n",
    "    y_pred = estimator.predict(X_test)\n",
    "    \n",
    "    # Number of decimal places based on number of samples\n",
    "    dec = np.int64(np.ceil(np.log10(len(y_test))))\n",
    "    \n",
    "    print('CONFUSION MATRIX')\n",
    "    print(confusion_matrix(y_test, y_pred), '\\n')\n",
    "    \n",
    "    print('CLASSIFICATION REPORT')\n",
    "    print(classification_report(y_test, y_pred, digits=dec))\n",
    "    \n",
    "    print('SCALAR METRICS')\n",
    "    format_str = '%%13s = %%.%if' % dec\n",
    "    print(format_str % ('MCC', matthews_corrcoef(y_test, y_pred)))\n",
    "    if y_test.nunique() <= 2: # Additional metrics for binary classification\n",
    "        try:\n",
    "            y_score = estimator.predict_proba(X_test)[:,1]\n",
    "        except:\n",
    "            y_score = estimator.decision_function(X_test)\n",
    "        print(format_str % ('AUPRC', average_precision_score(y_test, y_score)))\n",
    "        print(format_str % ('AUROC', roc_auc_score(y_test, y_score)))\n",
    "    print(format_str % (\"Cohen's kappa\", cohen_kappa_score(y_test, y_pred)))\n",
    "    print(format_str % ('Accuracy', accuracy_score(y_test, y_pred)))"
   ]
  },
  {
   "cell_type": "markdown",
   "metadata": {},
   "source": [
    "Evaluate the random forest on the test set:"
   ]
  },
  {
   "cell_type": "code",
   "execution_count": 65,
   "metadata": {
    "_cell_guid": "fed87b52-b81b-43f6-ac1f-4a7a9d78d58d",
    "_uuid": "fe8fd85ae8b465b00ba967cba1eb082a0046dbce"
   },
   "outputs": [
    {
     "name": "stdout",
     "output_type": "stream",
     "text": [
      "CONFUSION MATRIX\n",
      "[[56854    10]\n",
      " [   15    83]] \n",
      "\n",
      "CLASSIFICATION REPORT\n",
      "              precision    recall  f1-score   support\n",
      "\n",
      "           0    0.99974   0.99982   0.99978     56864\n",
      "           1    0.89247   0.84694   0.86911        98\n",
      "\n",
      "    accuracy                        0.99956     56962\n",
      "   macro avg    0.94610   0.92338   0.93445     56962\n",
      "weighted avg    0.99955   0.99956   0.99956     56962\n",
      "\n",
      "SCALAR METRICS\n",
      "          MCC = 0.86919\n",
      "        AUPRC = 0.85098\n",
      "        AUROC = 0.95924\n",
      "Cohen's kappa = 0.86889\n",
      "     Accuracy = 0.99956\n"
     ]
    }
   ],
   "source": [
    "classification_eval(grid_rf, X_test, y_test)"
   ]
  },
  {
   "cell_type": "markdown",
   "metadata": {},
   "source": [
    "According to the MCC, the random forest performed better on the test set than on the training set. This is probably due to the refit model being trained on the entire training data set, and not on the smaller CV folds."
   ]
  },
  {
   "cell_type": "markdown",
   "metadata": {},
   "source": [
    "# 8. Conclusion\n",
    "<a id='8'></a>"
   ]
  },
  {
   "cell_type": "markdown",
   "metadata": {},
   "source": [
    "We were able to accurately identify fraudulent credit card transactions using a random forest model. We found that the five variables most correlated with fraud are, in decreasing order, V17, V14, V10, V12, and V11. Only a few preprocessing steps were necessary before constructing predictive models:\n",
    "* Split the data using a random, stratified train/test split with a test size of 20%\n",
    "* Box-Cox power transform of the transaction amounts to remove skewness in the data\n",
    "* Mean and variance standardization of all features as part of a machine learning pipeline\n",
    "\n",
    "We used the [Matthews correlation coefficient (MCC)](https://en.wikipedia.org/wiki/Matthews_correlation_coefficient) to compare the performance of different models. In cross validation, the best linear model (logistic regression, linear SVC) achieved a cross-validated MCC score of 0.807, and a random forest achieved a cross-validated MCC score of 0.856. We therefore chose the random forest as the better model, which obtained an MCC of 0.869 on the test set.\n",
    "\n",
    "To improve a chosen model, we searched over a grid of hyperparameters and compared performance with cross-validation. It may be possible to improve the random forest model by further tweaking the hyperparameters, given additional time and/or computational power."
   ]
  }
 ],
 "metadata": {
  "kernelspec": {
   "display_name": "Python 3",
   "language": "python",
   "name": "python3"
  },
  "language_info": {
   "codemirror_mode": {
    "name": "ipython",
    "version": 3
   },
   "file_extension": ".py",
   "mimetype": "text/x-python",
   "name": "python",
   "nbconvert_exporter": "python",
   "pygments_lexer": "ipython3",
   "version": "3.7.11"
  }
 },
 "nbformat": 4,
 "nbformat_minor": 1
}
